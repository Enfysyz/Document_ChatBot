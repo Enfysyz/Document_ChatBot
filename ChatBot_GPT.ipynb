{
  "nbformat": 4,
  "nbformat_minor": 0,
  "metadata": {
    "colab": {
      "provenance": []
    },
    "kernelspec": {
      "name": "python3",
      "display_name": "Python 3"
    },
    "language_info": {
      "name": "python"
    }
  },
  "cells": [
    {
      "cell_type": "markdown",
      "source": [
        "Install Packages"
      ],
      "metadata": {
        "id": "TlBmKrhQrprm"
      }
    },
    {
      "cell_type": "code",
      "execution_count": null,
      "metadata": {
        "id": "Pj6cTpZAhPvp"
      },
      "outputs": [],
      "source": [
        "!pip install streamlit\n",
        "!pip install PyPDF2\n",
        "!pip install langchain\n",
        "!npm install localtunnel\n",
        "!pip install openai\n",
        "!pip install tiktoken\n",
        "!pip install faiss-cpu\n",
        "!sudo apt install tesseract-ocr\n",
        "!pip install pytesseract\n",
        "!pip install chromadb\n",
        "!pip install pypdf\n",
        "!pip install chromadb\n",
        "!pip install streamlit_chat"
      ]
    },
    {
      "cell_type": "markdown",
      "source": [
        "Enter API KEY"
      ],
      "metadata": {
        "id": "863yA73frme1"
      }
    },
    {
      "cell_type": "code",
      "source": [
        "import os\n",
        "os.environ['OPENAI_API_KEY'] = 'API KEY'"
      ],
      "metadata": {
        "id": "wC_kRkIzhZ6J"
      },
      "execution_count": 6,
      "outputs": []
    },
    {
      "cell_type": "markdown",
      "source": [
        "app.py"
      ],
      "metadata": {
        "id": "F9Kjm_x2rtn_"
      }
    },
    {
      "cell_type": "code",
      "source": [
        "%%writefile app.py\n",
        "\n",
        "\n",
        "import os\n",
        "import streamlit as st\n",
        "from PyPDF2 import PdfReader\n",
        "from langchain.text_splitter import CharacterTextSplitter\n",
        "from langchain.embeddings.openai import OpenAIEmbeddings\n",
        "from langchain.vectorstores import FAISS\n",
        "from langchain.chains.question_answering import load_qa_chain\n",
        "from langchain.llms import OpenAI\n",
        "from langchain.callbacks import get_openai_callback\n",
        "\n",
        "from langchain.vectorstores import Chroma\n",
        "from langchain import OpenAI, VectorDBQA\n",
        "from langchain.document_loaders import DirectoryLoader\n",
        "from langchain.document_loaders import PyPDFLoader\n",
        "\n",
        "from langchain.schema import (\n",
        "    SystemMessage,\n",
        "    HumanMessage,\n",
        "    AIMessage\n",
        ")\n",
        "from streamlit_chat import message\n",
        "\n",
        "import pytesseract\n",
        "import shutil\n",
        "import random\n",
        "try:\n",
        " from PIL import Image\n",
        "except ImportError:\n",
        " import Image\n",
        "\n",
        "def pdf():\n",
        "  #load_dotenv()\n",
        "  #st.set_page_config(page_title=\"Ask your PDF\")\n",
        "  st.header(\"Ask your PDF 💬\")\n",
        "    \n",
        "  # upload file\n",
        "  pdf = st.file_uploader(\"Upload your PDF\", type=\"pdf\", label_visibility=\"hidden\")\n",
        "  \n",
        "  \n",
        "  # extract the text\n",
        "  if pdf is not None:\n",
        "    with open(pdf.name, \"wb\") as f:\n",
        "      f.write(pdf.getbuffer())\n",
        "    \n",
        "    # Example path components\n",
        "    directory = \"/content\"\n",
        "    filename = pdf.name\n",
        "\n",
        "    # Join the directory and filename\n",
        "    full_path = os.path.join(directory, filename)\n",
        "\n",
        "    loader =  PyPDFLoader(full_path)\n",
        "    documents = loader.load()\n",
        "    text_splitter = CharacterTextSplitter(chunk_size=1000, chunk_overlap=0)\n",
        "    texts = text_splitter.split_documents(documents)\n",
        "    embeddings = OpenAIEmbeddings()\n",
        "    docsearch = Chroma.from_documents(texts, embeddings)\n",
        "    qa = VectorDBQA.from_chain_type(llm=OpenAI(), chain_type=\"stuff\", vectorstore=docsearch, return_source_documents=True)\n",
        "\n",
        "    st.divider()\n",
        "    user_question = st.text_input(\"Ask a question about your PDF:\", label_visibility=\"hidden\")\n",
        "    if user_question:\n",
        "      st.session_state.messages.append(HumanMessage(content=user_question))\n",
        "      result = qa({\"query\": user_question})\n",
        "      #st.write(result['result'])\n",
        "      st.session_state.messages.append(\n",
        "                AIMessage(content=result['result']))\n",
        "      with st.expander(\"See source\"):\n",
        "        st.write(result['source_documents'])\n",
        "      \n",
        "\n",
        "def img():\n",
        "  st.header(\"Ask your Image 💬\")\n",
        "    \n",
        "  # upload file\n",
        "  image = st.file_uploader(label = \"Upload your image here\",type=['png','jpg','jpeg'])\n",
        "\n",
        "  if image is not None:\n",
        "    text = pytesseract.image_to_string(Image.open(image))\n",
        "    qna(text)\n",
        "\n",
        "\n",
        "\n",
        "def qna(text):\n",
        "  # split into chunks\n",
        "  text_splitter = CharacterTextSplitter(\n",
        "    separator=\"\\n\",\n",
        "    chunk_size=1000,\n",
        "    chunk_overlap=200,\n",
        "    length_function=len\n",
        "  )\n",
        "  chunks = text_splitter.split_text(text)\n",
        "  \n",
        "  # create embeddings\n",
        "  embeddings = OpenAIEmbeddings()\n",
        "  knowledge_base = FAISS.from_texts(chunks, embeddings)\n",
        "  \n",
        "  st.divider()\n",
        "  # show user input\n",
        "  user_question = st.text_input(\"Ask a question:\")\n",
        "  if user_question:\n",
        "    st.session_state.messages.append(HumanMessage(content=user_question))\n",
        "    docs = knowledge_base.similarity_search(user_question)\n",
        "    \n",
        "    llm = OpenAI()\n",
        "    chain = load_qa_chain(llm, chain_type=\"stuff\")\n",
        "    with get_openai_callback() as cb:\n",
        "      response = chain.run(input_documents=docs, question=user_question)\n",
        "      print(cb)\n",
        "        \n",
        "    #st.write(response)\n",
        "    st.session_state.messages.append(\n",
        "                AIMessage(content=response))\n",
        "\n",
        "\n",
        "if \"messages\" not in st.session_state:\n",
        "  st.session_state.messages = [\n",
        "      SystemMessage(content=\"You are a helpful assistant.\")\n",
        "  ]\n",
        "\n",
        "\n",
        "\n",
        "page_names = ['PDF', 'Image']\n",
        "\n",
        "#st.title('Quetion Answering ChatBot')\n",
        "#st.divider()\n",
        "with st.sidebar:\n",
        "  st.header(\"Choose file format\")\n",
        "  page = st.radio(\"File Format\",page_names, label_visibility=\"hidden\")\n",
        "  st.divider()\n",
        "\n",
        "  if page == 'PDF':\n",
        "    pdf()\n",
        "    \n",
        "  if page == 'Image':\n",
        "    img()\n",
        "\n",
        "# display message history\n",
        "messages = st.session_state.get('messages', [])\n",
        "for i, msg in enumerate(messages[1:]):\n",
        "  if i % 2 == 0:\n",
        "      message(msg.content, is_user=True, key=str(i) + '_user')\n",
        "  else:\n",
        "      message(msg.content, is_user=False, key=str(i) + '_ai')\n",
        "\n"
      ],
      "metadata": {
        "id": "9TzeKDS6hg1B"
      },
      "execution_count": null,
      "outputs": []
    },
    {
      "cell_type": "markdown",
      "source": [
        "IP for Local Tunnel"
      ],
      "metadata": {
        "id": "Lhyw8wFZrxqv"
      }
    },
    {
      "cell_type": "code",
      "source": [
        "!wget -q -O - ipv4.icanhazip.com"
      ],
      "metadata": {
        "id": "0XSMn_7_jQAS"
      },
      "execution_count": null,
      "outputs": []
    },
    {
      "cell_type": "markdown",
      "source": [
        "Launching app.py"
      ],
      "metadata": {
        "id": "xbUKWmjer2Y3"
      }
    },
    {
      "cell_type": "code",
      "source": [
        "!streamlit run app.py & npx localtunnel --port 8501"
      ],
      "metadata": {
        "id": "4FqWOusrjRf7"
      },
      "execution_count": null,
      "outputs": []
    }
  ]
}